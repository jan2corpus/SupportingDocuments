{
 "cells": [
  {
   "cell_type": "code",
   "execution_count": 1,
   "id": "3fe72ac4",
   "metadata": {},
   "outputs": [],
   "source": [
    "import pandas as pd\n",
    "import sqlite3\n",
    "\n",
    "# Connect to the SQLite database\n",
    "conn = sqlite3.connect('NBA-Game-Database-temp')\n",
    "\n",
    "# List of table names in the database\n",
    "tables = ['game_info', 'team_stats', 'player_stats']\n",
    "\n",
    "# Loop through the table names and save each to a CSV file\n",
    "for table in tables:\n",
    "    # Read the SQL table into a DataFrame\n",
    "    df = pd.read_sql_query(f\"SELECT * FROM {table}\", conn)\n",
    "    \n",
    "    # Save the DataFrame to a CSV file\n",
    "    df.to_csv(f\"{table}.csv\", index=False)\n",
    "\n",
    "# Close the connection\n",
    "conn.close()\n",
    "\n"
   ]
  },
  {
   "cell_type": "code",
   "execution_count": 8,
   "id": "87bd9a39",
   "metadata": {},
   "outputs": [],
   "source": [
    "#fix the inconsistencies in the headers\n",
    "import pandas as pd\n",
    "\n",
    "# Load the dataset\n",
    "team_stats_df = pd.read_csv('team_stats.csv')\n",
    "\n",
    "# Rename the column 'team' to 'Team'\n",
    "team_stats_df.rename(columns={'team': 'Team'}, inplace=True)\n",
    "\n",
    "# Save the updated dataset back to CSV\n",
    "team_stats_df.to_csv('team_stats.csv', index=False)\n"
   ]
  },
  {
   "cell_type": "code",
   "execution_count": 9,
   "id": "b53597c7",
   "metadata": {},
   "outputs": [
    {
     "name": "stderr",
     "output_type": "stream",
     "text": [
      "C:\\Users\\janmi\\AppData\\Local\\Temp\\ipykernel_11052\\3345342811.py:14: FutureWarning: The frame.append method is deprecated and will be removed from pandas in a future version. Use pandas.concat instead.\n",
      "  updated_team_stats = team_stats_2014_2023.append(team_stats, ignore_index=True)\n",
      "C:\\Users\\janmi\\AppData\\Local\\Temp\\ipykernel_11052\\3345342811.py:15: FutureWarning: The frame.append method is deprecated and will be removed from pandas in a future version. Use pandas.concat instead.\n",
      "  updated_player_stats = player_stats_2014_2023.append(player_stats, ignore_index=True)\n",
      "C:\\Users\\janmi\\AppData\\Local\\Temp\\ipykernel_11052\\3345342811.py:16: FutureWarning: The frame.append method is deprecated and will be removed from pandas in a future version. Use pandas.concat instead.\n",
      "  updated_game_info = game_info_2014_2023.append(game_info, ignore_index=True)\n"
     ]
    }
   ],
   "source": [
    "#merge datasets \n",
    "\n",
    "# Load the existing datasets\n",
    "team_stats_2014_2023 = pd.read_csv('team_stats_2014_2023.csv')\n",
    "player_stats_2014_2023 = pd.read_csv('player_stats_2014_2023.csv')\n",
    "game_info_2014_2023 = pd.read_csv('game_info_2014_2023.csv')\n",
    "\n",
    "# Load the new data to be added\n",
    "team_stats = pd.read_csv('team_stats.csv')\n",
    "player_stats = pd.read_csv('player_stats.csv')\n",
    "game_info = pd.read_csv('game_info.csv')\n",
    "\n",
    "# Append the new data to the existing datasets\n",
    "updated_team_stats = team_stats_2014_2023.append(team_stats, ignore_index=True)\n",
    "updated_player_stats = player_stats_2014_2023.append(player_stats, ignore_index=True)\n",
    "updated_game_info = game_info_2014_2023.append(game_info, ignore_index=True)\n",
    "\n",
    "# Save the updated datasets back to the CSV files\n",
    "updated_team_stats.to_csv('team_stats_0423.csv', index=False)\n",
    "updated_player_stats.to_csv('player_stats_0423.csv', index=False)\n",
    "updated_game_info.to_csv('game_info_0423.csv', index=False)\n",
    "\n"
   ]
  },
  {
   "cell_type": "code",
   "execution_count": 11,
   "id": "8f849887",
   "metadata": {},
   "outputs": [
    {
     "name": "stdout",
     "output_type": "stream",
     "text": [
      "Year column added successfully based on game_id.\n"
     ]
    }
   ],
   "source": [
    "\n",
    "# Load the dataset\n",
    "player_stats_df = pd.read_csv('team_stats_0423.csv')\n",
    "\n",
    "# Define the mapping based on the game_id prefix\n",
    "game_id_to_year_mapping = {\n",
    "    '304': 2004,\n",
    "    '405': 2005,\n",
    "    '506': 2006,\n",
    "    '607': 2007,\n",
    "    '708': 2008,\n",
    "    '809': 2009,\n",
    "    '910': 2010,\n",
    "    '1011': 2011,\n",
    "    '1112': 2012,\n",
    "    '1213': 2013,\n",
    "    '1314': 2014,\n",
    "    '1415': 2015,\n",
    "    '1516': 2016,\n",
    "    '1617': 2017,\n",
    "    '1718': 2018,\n",
    "    '1819': 2019,\n",
    "    '1920': 2020,\n",
    "    '2021': 2021,\n",
    "    '2122': 2022,\n",
    "    '2223': 2023,\n",
    "}\n",
    "\n",
    "# Function to determine the year based on game_id\n",
    "def get_year_from_game_id(game_id):\n",
    "    prefix = str(game_id)[:3] if str(game_id)[:3] in game_id_to_year_mapping else str(game_id)[:4]\n",
    "    return game_id_to_year_mapping.get(prefix, 'Unknown')\n",
    "\n",
    "# Apply the function to create a 'Year' column\n",
    "player_stats_df['Year'] = player_stats_df['game_id'].apply(get_year_from_game_id)\n",
    "\n",
    "# Move the 'Year' column to the first position\n",
    "columns = ['Year'] + [col for col in player_stats_df if col != 'Year']\n",
    "player_stats_df = player_stats_df[columns]\n",
    "player_stats_df.to_csv('team_stats_0423.csv', index=False)\n",
    "\n",
    "print(\"Year column added successfully based on game_id.\")\n"
   ]
  }
 ],
 "metadata": {
  "kernelspec": {
   "display_name": "Python 3 (ipykernel)",
   "language": "python",
   "name": "python3"
  },
  "language_info": {
   "codemirror_mode": {
    "name": "ipython",
    "version": 3
   },
   "file_extension": ".py",
   "mimetype": "text/x-python",
   "name": "python",
   "nbconvert_exporter": "python",
   "pygments_lexer": "ipython3",
   "version": "3.11.4"
  }
 },
 "nbformat": 4,
 "nbformat_minor": 5
}
