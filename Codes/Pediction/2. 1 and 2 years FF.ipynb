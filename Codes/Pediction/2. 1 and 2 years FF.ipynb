{
 "cells": [
  {
   "cell_type": "code",
   "execution_count": 1,
   "id": "c89b9603",
   "metadata": {},
   "outputs": [
    {
     "name": "stderr",
     "output_type": "stream",
     "text": [
      "C:\\Users\\janmi\\AppData\\Local\\Temp\\ipykernel_4972\\3265336699.py:12: DtypeWarning: Columns (24) have mixed types. Specify dtype option on import or set low_memory=False.\n",
      "  team_stats_df = pd.read_csv('team_stats_0423_sorted.csv')\n"
     ]
    }
   ],
   "source": [
    "import pandas as pd\n",
    "from sklearn.ensemble import RandomForestClassifier, GradientBoostingClassifier\n",
    "from sklearn.linear_model import LogisticRegression\n",
    "from sklearn.svm import SVC\n",
    "from sklearn.neighbors import KNeighborsClassifier\n",
    "from sklearn.tree import DecisionTreeClassifier\n",
    "from sklearn.naive_bayes import GaussianNB\n",
    "from sklearn.metrics import accuracy_score\n",
    "import xgboost as xgb  # XGBoost model\n",
    "\n",
    "# Load your datasets\n",
    "team_stats_df = pd.read_csv('team_stats_0423_sorted.csv')\n",
    "standings_df = pd.read_csv('NBA_Standings_Ranked_Classes.csv')\n",
    "elo_df = pd.read_csv('elo_ratings_per_year.csv')\n",
    "four_factors_df = pd.read_csv('team_year_avg_four_factors.csv') \n",
    "\n",
    "# Merge the new features into your team stats dataset\n",
    "team_stats_df = pd.merge(team_stats_df, four_factors_df[['Year', 'Team', 'eFG%', 'TOV%', 'ORB%', 'FT_Rate']], how='left', on=['Year', 'Team'])\n",
    "\n",
    "# Merge the team stats with the updated standings data\n",
    "merged_data = pd.merge(team_stats_df, standings_df, how='left', on=['Year', 'Team'])\n",
    "filtered_data = merged_data[merged_data['Year'] >= 2004]\n",
    "features = ['eFG%', 'TOV%', 'ORB%', 'FT_Rate']\n"
   ]
  },
  {
   "cell_type": "code",
   "execution_count": 2,
   "id": "d8abb200",
   "metadata": {},
   "outputs": [],
   "source": [
    "def train_and_evaluate_yearly(conference_data, start_year, end_year, model):\n",
    "    train_data = conference_data[(conference_data['Year'] >= start_year) & (conference_data['Year'] < end_year)]\n",
    "    test_data = conference_data[conference_data['Year'] == (end_year + 1)]\n",
    "    \n",
    "    X_train = train_data[features]\n",
    "    y_train = train_data['ranking_class']\n",
    "\n",
    "    X_test = test_data[features]\n",
    "    y_test = test_data['ranking_class']\n",
    "    model.fit(X_train, y_train)\n",
    "    y_pred = model.predict(X_test)\n",
    "\n",
    "    accuracy = accuracy_score(y_test, y_pred)\n",
    "    return accuracy\n"
   ]
  },
  {
   "cell_type": "code",
   "execution_count": 5,
   "id": "d69c3cf1",
   "metadata": {},
   "outputs": [
    {
     "name": "stdout",
     "output_type": "stream",
     "text": [
      "             Eastern_Accuracy  Western_Accuracy\n",
      "Window_Size                                    \n",
      "1                    0.372927          0.385587\n",
      "2                    0.386297          0.393362\n"
     ]
    },
    {
     "name": "stderr",
     "output_type": "stream",
     "text": [
      "C:\\Users\\janmi\\AppData\\Local\\Temp\\ipykernel_4972\\3989381078.py:33: FutureWarning: The default value of numeric_only in DataFrameGroupBy.mean is deprecated. In a future version, numeric_only will default to False. Either specify numeric_only or select only columns which should be valid for the function.\n",
      "  RF_FF = results_df.groupby(['Window_Size']).mean()[['Eastern_Accuracy', 'Western_Accuracy']]\n"
     ]
    }
   ],
   "source": [
    "from sklearn.ensemble import RandomForestClassifier\n",
    "\n",
    "# Initialize the model\n",
    "model = RandomForestClassifier(random_state=42)\n",
    "\n",
    "# Store results\n",
    "results_summary = []\n",
    "\n",
    "# Iterate over the years using 1 and 2 years of data to predict the next year\n",
    "for window_size in [1, 2]:\n",
    "    for year in range(2008, 2023):\n",
    "        eastern_data = filtered_data[filtered_data['Conference'] == 'Eastern Conference']\n",
    "        western_data = filtered_data[filtered_data['Conference'] == 'Western Conference']\n",
    "\n",
    "        # Train and evaluate for East\n",
    "        eastern_accuracy = train_and_evaluate_yearly(eastern_data, year - window_size, year, model)\n",
    "        \n",
    "        # Train and evaluate for West\n",
    "        western_accuracy = train_and_evaluate_yearly(western_data, year - window_size, year, model)\n",
    "        \n",
    "        results_summary.append({\n",
    "            \"Year\": year,\n",
    "            \"Window_Size\": window_size,\n",
    "            \"Model\": \"RandomForest\",\n",
    "            \"Eastern_Accuracy\": eastern_accuracy,\n",
    "            \"Western_Accuracy\": western_accuracy\n",
    "        })\n",
    "\n",
    "# Convert results to a DataFrame\n",
    "results_df = pd.DataFrame(results_summary)\n",
    "\n",
    "# Group by window size and average the accuracies\n",
    "RF_FF = results_df.groupby(['Window_Size']).mean()[['Eastern_Accuracy', 'Western_Accuracy']]\n",
    "print(RF_FF)\n"
   ]
  },
  {
   "cell_type": "code",
   "execution_count": 6,
   "id": "5e78d1df",
   "metadata": {},
   "outputs": [
    {
     "name": "stdout",
     "output_type": "stream",
     "text": [
      "             Eastern_Accuracy  Western_Accuracy\n",
      "Window_Size                                    \n",
      "1                    0.379668          0.362559\n",
      "2                    0.401851          0.398052\n"
     ]
    },
    {
     "name": "stderr",
     "output_type": "stream",
     "text": [
      "C:\\Users\\janmi\\AppData\\Local\\Temp\\ipykernel_4972\\2279054825.py:33: FutureWarning: The default value of numeric_only in DataFrameGroupBy.mean is deprecated. In a future version, numeric_only will default to False. Either specify numeric_only or select only columns which should be valid for the function.\n",
      "  LR_FF = results_df.groupby(['Window_Size']).mean()[['Eastern_Accuracy', 'Western_Accuracy']]\n"
     ]
    }
   ],
   "source": [
    "from sklearn.linear_model import LogisticRegression\n",
    "\n",
    "# Initialize the model\n",
    "model = LogisticRegression(max_iter=1000, random_state=42)\n",
    "\n",
    "# Store results\n",
    "results_summary = []\n",
    "\n",
    "# Iterate over the years using 1 and 2 years of data to predict the next year\n",
    "for window_size in [1, 2]:\n",
    "    for year in range(2008, 2023):\n",
    "        eastern_data = filtered_data[filtered_data['Conference'] == 'Eastern Conference']\n",
    "        western_data = filtered_data[filtered_data['Conference'] == 'Western Conference']\n",
    "\n",
    "        # Train and evaluate for East\n",
    "        eastern_accuracy = train_and_evaluate_yearly(eastern_data, year - window_size, year, model)\n",
    "        \n",
    "        # Train and evaluate for West\n",
    "        western_accuracy = train_and_evaluate_yearly(western_data, year - window_size, year, model)\n",
    "        \n",
    "        results_summary.append({\n",
    "            \"Year\": year,\n",
    "            \"Window_Size\": window_size,\n",
    "            \"Model\": \"RandomForest\",\n",
    "            \"Eastern_Accuracy\": eastern_accuracy,\n",
    "            \"Western_Accuracy\": western_accuracy\n",
    "        })\n",
    "\n",
    "# Convert results to a DataFrame\n",
    "results_df = pd.DataFrame(results_summary)\n",
    "\n",
    "# Group by window size and average the accuracies\n",
    "LR_FF = results_df.groupby(['Window_Size']).mean()[['Eastern_Accuracy', 'Western_Accuracy']]\n",
    "print(LR_FF)\n"
   ]
  },
  {
   "cell_type": "code",
   "execution_count": 7,
   "id": "d0addc5c",
   "metadata": {},
   "outputs": [
    {
     "name": "stdout",
     "output_type": "stream",
     "text": [
      "             Eastern_Accuracy  Western_Accuracy\n",
      "Window_Size                                    \n",
      "1                    0.407282          0.416493\n",
      "2                    0.434205          0.434289\n"
     ]
    },
    {
     "name": "stderr",
     "output_type": "stream",
     "text": [
      "C:\\Users\\janmi\\AppData\\Local\\Temp\\ipykernel_4972\\2340049628.py:30: FutureWarning: The default value of numeric_only in DataFrameGroupBy.mean is deprecated. In a future version, numeric_only will default to False. Either specify numeric_only or select only columns which should be valid for the function.\n",
      "  SVC_FF = results_df.groupby(['Window_Size']).mean()[['Eastern_Accuracy', 'Western_Accuracy']]\n"
     ]
    }
   ],
   "source": [
    "from sklearn.svm import SVC\n",
    "\n",
    "model = SVC(random_state=42)\n",
    "\n",
    "results_summary = []\n",
    "\n",
    "for window_size in [1, 2]:\n",
    "    for year in range(2008, 2023):\n",
    "        eastern_data = filtered_data[filtered_data['Conference'] == 'Eastern Conference']\n",
    "        western_data = filtered_data[filtered_data['Conference'] == 'Western Conference']\n",
    "\n",
    "        # Train and evaluate for East\n",
    "        eastern_accuracy = train_and_evaluate_yearly(eastern_data, year - window_size, year, model)\n",
    "        \n",
    "        # Train and evaluate for West\n",
    "        western_accuracy = train_and_evaluate_yearly(western_data, year - window_size, year, model)\n",
    "        \n",
    "        results_summary.append({\n",
    "            \"Year\": year,\n",
    "            \"Window_Size\": window_size,\n",
    "            \"Model\": \"RandomForest\",\n",
    "            \"Eastern_Accuracy\": eastern_accuracy,\n",
    "            \"Western_Accuracy\": western_accuracy\n",
    "        })\n",
    "\n",
    "# Convert results to a DataFrame\n",
    "results_df = pd.DataFrame(results_summary)\n",
    "\n",
    "# Group by window size and average the accuracies\n",
    "SVC_FF = results_df.groupby(['Window_Size']).mean()[['Eastern_Accuracy', 'Western_Accuracy']]\n",
    "print(SVC_FF)"
   ]
  },
  {
   "cell_type": "code",
   "execution_count": 8,
   "id": "667e5070",
   "metadata": {},
   "outputs": [
    {
     "name": "stdout",
     "output_type": "stream",
     "text": [
      "             Eastern_Accuracy  Western_Accuracy\n",
      "Window_Size                                    \n",
      "1                    0.429442          0.425273\n",
      "2                    0.417175          0.415546\n"
     ]
    },
    {
     "name": "stderr",
     "output_type": "stream",
     "text": [
      "C:\\Users\\janmi\\AppData\\Local\\Temp\\ipykernel_4972\\1254903147.py:31: FutureWarning: The default value of numeric_only in DataFrameGroupBy.mean is deprecated. In a future version, numeric_only will default to False. Either specify numeric_only or select only columns which should be valid for the function.\n",
      "  GB_FF = results_df.groupby(['Window_Size']).mean()[['Eastern_Accuracy', 'Western_Accuracy']]\n"
     ]
    }
   ],
   "source": [
    "from sklearn.ensemble import GradientBoostingClassifier\n",
    "\n",
    "model = GradientBoostingClassifier(random_state=42)\n",
    "\n",
    "results_summary = []\n",
    "\n",
    "# Iterate over the years using 1 and 2 years of data to predict the next year\n",
    "for window_size in [1, 2]:\n",
    "    for year in range(2008, 2023):\n",
    "        eastern_data = filtered_data[filtered_data['Conference'] == 'Eastern Conference']\n",
    "        western_data = filtered_data[filtered_data['Conference'] == 'Western Conference']\n",
    "\n",
    "        # Train and evaluate for East\n",
    "        eastern_accuracy = train_and_evaluate_yearly(eastern_data, year - window_size, year, model)\n",
    "        \n",
    "        # Train and evaluate for West\n",
    "        western_accuracy = train_and_evaluate_yearly(western_data, year - window_size, year, model)\n",
    "        \n",
    "        results_summary.append({\n",
    "            \"Year\": year,\n",
    "            \"Window_Size\": window_size,\n",
    "            \"Model\": \"RandomForest\",\n",
    "            \"Eastern_Accuracy\": eastern_accuracy,\n",
    "            \"Western_Accuracy\": western_accuracy\n",
    "        })\n",
    "\n",
    "# Convert results to a DataFrame\n",
    "results_df = pd.DataFrame(results_summary)\n",
    "\n",
    "# Group by window size and average the accuracies\n",
    "GB_FF = results_df.groupby(['Window_Size']).mean()[['Eastern_Accuracy', 'Western_Accuracy']]\n",
    "print(GB_FF)\n"
   ]
  },
  {
   "cell_type": "code",
   "execution_count": 9,
   "id": "b7b9850f",
   "metadata": {},
   "outputs": [
    {
     "name": "stdout",
     "output_type": "stream",
     "text": [
      "             Eastern_Accuracy  Western_Accuracy\n",
      "Window_Size                                    \n",
      "1                    0.434523          0.371994\n",
      "2                    0.416464          0.371676\n"
     ]
    },
    {
     "name": "stderr",
     "output_type": "stream",
     "text": [
      "C:\\Users\\janmi\\AppData\\Local\\Temp\\ipykernel_4972\\483933739.py:31: FutureWarning: The default value of numeric_only in DataFrameGroupBy.mean is deprecated. In a future version, numeric_only will default to False. Either specify numeric_only or select only columns which should be valid for the function.\n",
      "  KNN_FF = results_df.groupby(['Window_Size']).mean()[['Eastern_Accuracy', 'Western_Accuracy']]\n"
     ]
    }
   ],
   "source": [
    "from sklearn.neighbors import KNeighborsClassifier\n",
    "\n",
    "model = KNeighborsClassifier()\n",
    "\n",
    "results_summary = []\n",
    "\n",
    "# Iterate over the years using 1 and 2 years of data to predict the next year\n",
    "for window_size in [1, 2]:\n",
    "    for year in range(2008, 2023):\n",
    "        eastern_data = filtered_data[filtered_data['Conference'] == 'Eastern Conference']\n",
    "        western_data = filtered_data[filtered_data['Conference'] == 'Western Conference']\n",
    "\n",
    "        # Train and evaluate for East\n",
    "        eastern_accuracy = train_and_evaluate_yearly(eastern_data, year - window_size, year, model)\n",
    "        \n",
    "        # Train and evaluate for West\n",
    "        western_accuracy = train_and_evaluate_yearly(western_data, year - window_size, year, model)\n",
    "\n",
    "        results_summary.append({\n",
    "            \"Year\": year,\n",
    "            \"Window_Size\": window_size,\n",
    "            \"Model\": \"RandomForest\",\n",
    "            \"Eastern_Accuracy\": eastern_accuracy,\n",
    "            \"Western_Accuracy\": western_accuracy\n",
    "        })\n",
    "\n",
    "# Convert results to a DataFrame\n",
    "results_df = pd.DataFrame(results_summary)\n",
    "\n",
    "# Group by window size and average the accuracies\n",
    "KNN_FF = results_df.groupby(['Window_Size']).mean()[['Eastern_Accuracy', 'Western_Accuracy']]\n",
    "\n",
    "print(KNN_FF)\n"
   ]
  },
  {
   "cell_type": "code",
   "execution_count": 10,
   "id": "5a0e2ab8",
   "metadata": {},
   "outputs": [
    {
     "name": "stdout",
     "output_type": "stream",
     "text": [
      "             Eastern_Accuracy  Western_Accuracy\n",
      "Window_Size                                    \n",
      "1                    0.332845          0.367710\n",
      "2                    0.355053          0.339991\n"
     ]
    },
    {
     "name": "stderr",
     "output_type": "stream",
     "text": [
      "C:\\Users\\janmi\\AppData\\Local\\Temp\\ipykernel_4972\\1513530746.py:29: FutureWarning: The default value of numeric_only in DataFrameGroupBy.mean is deprecated. In a future version, numeric_only will default to False. Either specify numeric_only or select only columns which should be valid for the function.\n",
      "  DT_FF = results_df.groupby(['Window_Size']).mean()[['Eastern_Accuracy', 'Western_Accuracy']]\n"
     ]
    }
   ],
   "source": [
    "from sklearn.tree import DecisionTreeClassifier\n",
    "\n",
    "model = DecisionTreeClassifier(random_state=42)\n",
    "results_summary = []\n",
    "\n",
    "# Iterate over the years using 1 and 2 years of data to predict the next year\n",
    "for window_size in [1, 2]:\n",
    "    for year in range(2008, 2023):\n",
    "        eastern_data = filtered_data[filtered_data['Conference'] == 'Eastern Conference']\n",
    "        western_data = filtered_data[filtered_data['Conference'] == 'Western Conference']\n",
    "\n",
    "        # Train and evaluate for East\n",
    "        eastern_accuracy = train_and_evaluate_yearly(eastern_data, year - window_size, year, model)\n",
    "        \n",
    "        # Train and evaluate for West\n",
    "        western_accuracy = train_and_evaluate_yearly(western_data, year - window_size, year, model)\n",
    "        results_summary.append({\n",
    "            \"Year\": year,\n",
    "            \"Window_Size\": window_size,\n",
    "            \"Model\": \"RandomForest\",\n",
    "            \"Eastern_Accuracy\": eastern_accuracy,\n",
    "            \"Western_Accuracy\": western_accuracy\n",
    "        })\n",
    "\n",
    "# Convert results to a DataFrame\n",
    "results_df = pd.DataFrame(results_summary)\n",
    "\n",
    "# Group by window size and average the accuracies\n",
    "DT_FF = results_df.groupby(['Window_Size']).mean()[['Eastern_Accuracy', 'Western_Accuracy']]\n",
    "print(DT_FF)"
   ]
  },
  {
   "cell_type": "code",
   "execution_count": 11,
   "id": "3f83c633",
   "metadata": {},
   "outputs": [
    {
     "name": "stdout",
     "output_type": "stream",
     "text": [
      "LR              Eastern_Accuracy  Western_Accuracy\n",
      "Window_Size                                    \n",
      "1                    0.379668          0.362559\n",
      "2                    0.401851          0.398052\n",
      "RF              Eastern_Accuracy  Western_Accuracy\n",
      "Window_Size                                    \n",
      "1                    0.372927          0.385587\n",
      "2                    0.386297          0.393362\n",
      "SVC              Eastern_Accuracy  Western_Accuracy\n",
      "Window_Size                                    \n",
      "1                    0.407282          0.416493\n",
      "2                    0.434205          0.434289\n",
      "GB              Eastern_Accuracy  Western_Accuracy\n",
      "Window_Size                                    \n",
      "1                    0.429442          0.425273\n",
      "2                    0.417175          0.415546\n",
      "KNN              Eastern_Accuracy  Western_Accuracy\n",
      "Window_Size                                    \n",
      "1                    0.434523          0.371994\n",
      "2                    0.416464          0.371676\n",
      "DT              Eastern_Accuracy  Western_Accuracy\n",
      "Window_Size                                    \n",
      "1                    0.332845          0.367710\n",
      "2                    0.355053          0.339991\n"
     ]
    }
   ],
   "source": [
    "print('LR', LR_FF)\n",
    "print('RF', RF_FF)\n",
    "print('SVC', SVC_FF)\n",
    "print('GB', GB_FF)\n",
    "print('KNN', KNN_FF)\n",
    "print('DT', DT_FF)\n",
    "\n"
   ]
  },
  {
   "cell_type": "code",
   "execution_count": 12,
   "id": "5b247345",
   "metadata": {},
   "outputs": [
    {
     "name": "stdout",
     "output_type": "stream",
     "text": [
      "             Combined_Accuracy\n",
      "Window_Size                   \n",
      "1                     0.371113\n",
      "2                     0.399952\n",
      "             Combined_Accuracy\n",
      "Window_Size                   \n",
      "1                     0.379257\n",
      "2                     0.389829\n",
      "             Combined_Accuracy\n",
      "Window_Size                   \n",
      "1                     0.411887\n",
      "2                     0.434247\n",
      "             Combined_Accuracy\n",
      "Window_Size                   \n",
      "1                     0.427357\n",
      "2                     0.416361\n",
      "             Combined_Accuracy\n",
      "Window_Size                   \n",
      "1                     0.403258\n",
      "2                     0.394070\n",
      "             Combined_Accuracy\n",
      "Window_Size                   \n",
      "1                     0.350277\n",
      "2                     0.347522\n"
     ]
    }
   ],
   "source": [
    "LR_FF['Combined_Accuracy'] = LR_FF.mean(axis=1)\n",
    "RF_FF['Combined_Accuracy'] = RF_FF.mean(axis=1)\n",
    "SVC_FF['Combined_Accuracy'] = SVC_FF.mean(axis=1)\n",
    "GB_FF['Combined_Accuracy'] = GB_FF.mean(axis=1)\n",
    "KNN_FF['Combined_Accuracy'] = KNN_FF.mean(axis=1)\n",
    "DT_FF['Combined_Accuracy'] = DT_FF.mean(axis=1)\n",
    "# Print the result\n",
    "print(LR_FF[['Combined_Accuracy']])\n",
    "print(RF_FF[['Combined_Accuracy']])\n",
    "print(SVC_FF[['Combined_Accuracy']])\n",
    "print(GB_FF[['Combined_Accuracy']])\n",
    "print(KNN_FF[['Combined_Accuracy']])\n",
    "print(DT_FF[['Combined_Accuracy']])"
   ]
  }
 ],
 "metadata": {
  "kernelspec": {
   "display_name": "Python 3 (ipykernel)",
   "language": "python",
   "name": "python3"
  },
  "language_info": {
   "codemirror_mode": {
    "name": "ipython",
    "version": 3
   },
   "file_extension": ".py",
   "mimetype": "text/x-python",
   "name": "python",
   "nbconvert_exporter": "python",
   "pygments_lexer": "ipython3",
   "version": "3.11.4"
  }
 },
 "nbformat": 4,
 "nbformat_minor": 5
}
